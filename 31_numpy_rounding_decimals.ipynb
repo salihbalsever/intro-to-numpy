{
 "cells": [
  {
   "cell_type": "code",
   "execution_count": null,
   "id": "21047a0d",
   "metadata": {},
   "outputs": [],
   "source": [
    "# Rounding Decimals in NumPy\n",
    "\n",
    "# NumPy provides several functions to round decimal numbers:\n",
    "\n",
    "# - `np.around()` → Round to the given number of decimals  \n",
    "# - `np.floor()` → Round down to the nearest integer  \n",
    "# - `np.ceil()` → Round up to the nearest integer  \n",
    "# - `np.trunc()` → Truncate the decimals (keep integer part only)"
   ]
  },
  {
   "cell_type": "code",
   "execution_count": 2,
   "id": "c520f9b4",
   "metadata": {},
   "outputs": [
    {
     "name": "stdout",
     "output_type": "stream",
     "text": [
      "Original: [ 3.14159  2.71828  1.61803 -1.2345 ]\n",
      "Rounded (2 decimals): [ 3.14  2.72  1.62 -1.23]\n",
      "Floor: [ 3.  2.  1. -2.]\n",
      "Ceil: [ 4.  3.  2. -1.]\n",
      "Trunc: [ 3.  2.  1. -1.]\n"
     ]
    }
   ],
   "source": [
    "import numpy as np\n",
    "\n",
    "a = np.array([3.14159, 2.71828, 1.61803, -1.2345])\n",
    "\n",
    "print(\"Original:\", a)\n",
    "\n",
    "# Round to 2 decimal places\n",
    "print(\"Rounded (2 decimals):\", np.around(a, 2))\n",
    "\n",
    "# Round down\n",
    "print(\"Floor:\", np.floor(a))\n",
    "\n",
    "# Round up\n",
    "print(\"Ceil:\", np.ceil(a))\n",
    "\n",
    "# Truncate decimals\n",
    "print(\"Trunc:\", np.trunc(a))\n",
    "\n",
    "# Rounding functions are used to control decimal precision  \n",
    "# or  convert float numbers to integers in different ways."
   ]
  },
  {
   "cell_type": "code",
   "execution_count": null,
   "id": "e1eda554",
   "metadata": {},
   "outputs": [],
   "source": []
  },
  {
   "cell_type": "code",
   "execution_count": null,
   "id": "2ad2a505",
   "metadata": {},
   "outputs": [],
   "source": []
  },
  {
   "cell_type": "code",
   "execution_count": null,
   "id": "768358ec",
   "metadata": {},
   "outputs": [],
   "source": []
  }
 ],
 "metadata": {
  "kernelspec": {
   "display_name": "Python (tf_env)",
   "language": "python",
   "name": "tf_env"
  },
  "language_info": {
   "codemirror_mode": {
    "name": "ipython",
    "version": 3
   },
   "file_extension": ".py",
   "mimetype": "text/x-python",
   "name": "python",
   "nbconvert_exporter": "python",
   "pygments_lexer": "ipython3",
   "version": "3.10.18"
  }
 },
 "nbformat": 4,
 "nbformat_minor": 5
}
