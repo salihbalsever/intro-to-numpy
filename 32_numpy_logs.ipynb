{
 "cells": [
  {
   "cell_type": "code",
   "execution_count": 1,
   "id": "21047a0d",
   "metadata": {},
   "outputs": [],
   "source": [
    "# NumPy Logarithms\n",
    "\n",
    "# NumPy provides several functions to compute logarithms:\n",
    "\n",
    "# - `np.log()` → Natural logarithm (base **e**)  \n",
    "# - `np.log2()` → Logarithm base **2**  \n",
    "# - `np.log10()` → Logarithm base **10**\n",
    "\n",
    "# Input must be positive."
   ]
  },
  {
   "cell_type": "code",
   "execution_count": 3,
   "id": "c520f9b4",
   "metadata": {},
   "outputs": [
    {
     "name": "stdout",
     "output_type": "stream",
     "text": [
      "Natural log (ln): [0.         1.         2.30258509 4.60517019]\n",
      "Base 2 log: [0.         1.44269504 3.32192809 6.64385619]\n",
      "Base 10 log: [0.         0.43429448 1.         2.        ]\n"
     ]
    }
   ],
   "source": [
    "import numpy as np\n",
    "\n",
    "a = np.array([1, np.e, 10, 100])\n",
    "\n",
    "print(\"Natural log (ln):\", np.log(a))     # [0. 1. 2.302... 4.605...]\n",
    "print(\"Base 2 log:\", np.log2(a))          # [0. 1. 3.3219... 6.6438...]\n",
    "print(\"Base 10 log:\", np.log10(a))        # [0. 0.434... 1. 2.]\n",
    "\n",
    "# NumPy log functions are used to transform values by different logarithmic bases  \n",
    "# — commonly used in data scaling, probability, and machine learning."
   ]
  },
  {
   "cell_type": "code",
   "execution_count": null,
   "id": "e1eda554",
   "metadata": {},
   "outputs": [],
   "source": []
  },
  {
   "cell_type": "code",
   "execution_count": null,
   "id": "2ad2a505",
   "metadata": {},
   "outputs": [],
   "source": []
  },
  {
   "cell_type": "code",
   "execution_count": null,
   "id": "768358ec",
   "metadata": {},
   "outputs": [],
   "source": []
  }
 ],
 "metadata": {
  "kernelspec": {
   "display_name": "Python (tf_env)",
   "language": "python",
   "name": "tf_env"
  },
  "language_info": {
   "codemirror_mode": {
    "name": "ipython",
    "version": 3
   },
   "file_extension": ".py",
   "mimetype": "text/x-python",
   "name": "python",
   "nbconvert_exporter": "python",
   "pygments_lexer": "ipython3",
   "version": "3.10.18"
  }
 },
 "nbformat": 4,
 "nbformat_minor": 5
}
