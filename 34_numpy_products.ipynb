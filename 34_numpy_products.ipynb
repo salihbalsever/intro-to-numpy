{
 "cells": [
  {
   "cell_type": "code",
   "execution_count": null,
   "id": "21047a0d",
   "metadata": {},
   "outputs": [],
   "source": [
    "# NumPy Products\n",
    "\n",
    "# NumPy provides functions to calculate the product (multiplication) of array elements:\n",
    "\n",
    "# - `np.prod()` → Product of all elements  \n",
    "# - `np.cumprod()` → Cumulative product (running multiplication)  \n",
    "# - Supports axis-based operations"
   ]
  },
  {
   "cell_type": "code",
   "execution_count": 1,
   "id": "c520f9b4",
   "metadata": {},
   "outputs": [
    {
     "name": "stdout",
     "output_type": "stream",
     "text": [
      "Product: 24\n",
      "Cumulative Product: [ 1  2  6 24]\n",
      "Product of all elements: 24\n",
      "Product along axis=0 (columns): [3 8]\n",
      "Product along axis=1 (rows): [ 2 12]\n"
     ]
    }
   ],
   "source": [
    "import numpy as np\n",
    "\n",
    "a = np.array([1, 2, 3, 4])\n",
    "\n",
    "print(\"Product:\", np.prod(a))           # 24\n",
    "print(\"Cumulative Product:\", np.cumprod(a))  # [1 2 6 24]\n",
    "\n",
    "# 2D example\n",
    "b = np.array([[1, 2], [3, 4]])\n",
    "\n",
    "print(\"Product of all elements:\", np.prod(b))               # 24\n",
    "print(\"Product along axis=0 (columns):\", np.prod(b, axis=0))  # [3 8]\n",
    "print(\"Product along axis=1 (rows):\", np.prod(b, axis=1))     # [2 12]\n",
    "\n",
    "# NumPy product functions multiply values in an array  \n",
    "# either totally or cumulatively — and support axis-based calculations."
   ]
  },
  {
   "cell_type": "code",
   "execution_count": null,
   "id": "e1eda554",
   "metadata": {},
   "outputs": [],
   "source": []
  },
  {
   "cell_type": "code",
   "execution_count": null,
   "id": "2ad2a505",
   "metadata": {},
   "outputs": [],
   "source": []
  },
  {
   "cell_type": "code",
   "execution_count": null,
   "id": "768358ec",
   "metadata": {},
   "outputs": [],
   "source": []
  }
 ],
 "metadata": {
  "kernelspec": {
   "display_name": "Python (tf_env)",
   "language": "python",
   "name": "tf_env"
  },
  "language_info": {
   "codemirror_mode": {
    "name": "ipython",
    "version": 3
   },
   "file_extension": ".py",
   "mimetype": "text/x-python",
   "name": "python",
   "nbconvert_exporter": "python",
   "pygments_lexer": "ipython3",
   "version": "3.10.18"
  }
 },
 "nbformat": 4,
 "nbformat_minor": 5
}
