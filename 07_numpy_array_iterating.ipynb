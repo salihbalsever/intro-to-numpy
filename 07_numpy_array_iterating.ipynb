{
 "cells": [
  {
   "cell_type": "code",
   "execution_count": null,
   "id": "164ec794",
   "metadata": {},
   "outputs": [],
   "source": [
    "import numpy as np\n",
    "#Iterating in NumPy refers to looping through elements of a NumPy array. Unlike regular Python lists, NumPy arrays support efficient \n",
    "# iteration using functions like np.nditer, allowing you to loop over each element regardless of the array’s dimensionality.\n",
    "arr = np.array([[1, 2], [3, 4]])"
   ]
  },
  {
   "cell_type": "code",
   "execution_count": null,
   "id": "9cffee07",
   "metadata": {},
   "outputs": [],
   "source": [
    "for x in np.nditer(arr):\n",
    "    print(x)\n",
    "\n",
    "    #Iterate on the elements of the following 2-D array:\n",
    "arr2D = np.array([[1, 2, 3], [4, 5, 6]])\n",
    "for x in np.nditer(arr2D):\n",
    "    print(x)\n",
    "#Iterate on each scalar element of the 2-D array:\n",
    "arr = np.array([[1, 2, 3], [4, 5, 6]])"
   ]
  },
  {
   "cell_type": "code",
   "execution_count": null,
   "id": "a4bc019f",
   "metadata": {},
   "outputs": [],
   "source": [
    "for x in arr:\n",
    "  for y in x:\n",
    "    print(y)\n",
    "\n",
    "    #Iterate on the elements of the following 3-D array:"
   ]
  },
  {
   "cell_type": "code",
   "execution_count": null,
   "id": "e8bbc643",
   "metadata": {},
   "outputs": [],
   "source": [
    "arr3D = np.array([[[1, 2], [3, 4]], [[5, 6], [7, 8]]])\n",
    "for x in np.nditer(arr3D):\n",
    "    print(x)"
   ]
  },
  {
   "cell_type": "code",
   "execution_count": null,
   "id": "2fd3a0cc",
   "metadata": {},
   "outputs": [],
   "source": [
    "#Iterating Arrays Using nditer()\n",
    "#np.nditer() is a NumPy iterator that allows efficient looping over multi-dimensional arrays.\n",
    "arr = np.array([[10, 20], [30, 40]])"
   ]
  },
  {
   "cell_type": "code",
   "execution_count": null,
   "id": "17f991eb",
   "metadata": {},
   "outputs": [],
   "source": [
    "for x in np.nditer(arr):\n",
    "    print(x)\n",
    "#Iterating Array With Different Data Types\n",
    "#When iterating, you can change the data type of elements using the op_dtypes parameter in nditer(). This is useful for casting data during iteration.\n",
    "arr = np.array([1, 2, 3])"
   ]
  },
  {
   "cell_type": "code",
   "execution_count": null,
   "id": "e84a2789",
   "metadata": {},
   "outputs": [],
   "source": [
    "for x in np.nditer(arr, flags=['buffered'], op_dtypes=['S']):\n",
    "  print(x)\n",
    "  #Enumerated Iteration Using ndenumerate()\n",
    "  #np.ndenumerate() allows you to iterate over a NumPy array while keeping track of the index of each element.\n",
    "  arr = np.array([[10, 20], [30, 40]])"
   ]
  },
  {
   "cell_type": "code",
   "execution_count": null,
   "id": "b126bb4f",
   "metadata": {
    "lines_to_next_cell": 2
   },
   "outputs": [],
   "source": [
    "for index, value in np.ndenumerate(arr):\n",
    "    print(f\"Index: {index}, Value: {value}\")"
   ]
  }
 ],
 "metadata": {
  "jupytext": {
   "cell_metadata_filter": "-all",
   "main_language": "python",
   "notebook_metadata_filter": "-all"
  }
 },
 "nbformat": 4,
 "nbformat_minor": 5
}
