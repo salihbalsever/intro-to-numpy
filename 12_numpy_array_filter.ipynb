{
 "cells": [
  {
   "cell_type": "code",
   "execution_count": null,
   "id": "11c000bb",
   "metadata": {},
   "outputs": [],
   "source": [
    "import numpy as np"
   ]
  },
  {
   "cell_type": "code",
   "execution_count": null,
   "id": "37f8ec21",
   "metadata": {},
   "outputs": [],
   "source": [
    "#Filtering in NumPy means creating a Boolean mask to select specific elements based on a condition.\n",
    "# Example: Filter values greater than 25\n",
    "arr = np.array([10, 20, 30, 40])"
   ]
  },
  {
   "cell_type": "code",
   "execution_count": null,
   "id": "fe84ec75",
   "metadata": {},
   "outputs": [],
   "source": [
    "# Create boolean mask\n",
    "filter_mask = arr > 25"
   ]
  },
  {
   "cell_type": "code",
   "execution_count": null,
   "id": "310bfd5d",
   "metadata": {},
   "outputs": [],
   "source": [
    "# Apply filter\n",
    "filtered_arr = arr[filter_mask]"
   ]
  },
  {
   "cell_type": "code",
   "execution_count": null,
   "id": "f6609ad6",
   "metadata": {},
   "outputs": [],
   "source": [
    "print(filtered_arr)  # [30 40]"
   ]
  }
 ],
 "metadata": {
  "jupytext": {
   "cell_metadata_filter": "-all",
   "main_language": "python",
   "notebook_metadata_filter": "-all"
  }
 },
 "nbformat": 4,
 "nbformat_minor": 5
}
