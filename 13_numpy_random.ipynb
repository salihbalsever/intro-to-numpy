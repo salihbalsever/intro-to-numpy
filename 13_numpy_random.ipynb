{
 "cells": [
  {
   "cell_type": "code",
   "execution_count": null,
   "id": "e9d6f183",
   "metadata": {
    "lines_to_next_cell": 2
   },
   "outputs": [],
   "source": [
    "from numpy import random"
   ]
  },
  {
   "cell_type": "code",
   "execution_count": null,
   "id": "287edaf7",
   "metadata": {
    "lines_to_next_cell": 2
   },
   "outputs": [],
   "source": [
    "# NumPy’s random module provides functions to generate random numbers and arrays.\n",
    "# Example: Generate a random integer between 0 and 100\n",
    "x = random.randint(100)\n",
    "print(x)"
   ]
  },
  {
   "cell_type": "code",
   "execution_count": null,
   "id": "c7ee8358",
   "metadata": {},
   "outputs": [],
   "source": [
    "# Example: Generate a random float from 0 to 1:\n",
    "x = random.rand()\n",
    "print(x)"
   ]
  },
  {
   "cell_type": "code",
   "execution_count": null,
   "id": "d8420fb7",
   "metadata": {},
   "outputs": [],
   "source": [
    "# Generate a 1-D array containing 5 random integers from 0 to 100 (exclusive)\n",
    "random_integers = random.randint(0, 100, size=5)\n",
    "print(random_integers)"
   ]
  },
  {
   "cell_type": "markdown",
   "id": "4921e635",
   "metadata": {},
   "source": [
    "Generate a 2-D array with 3 rows, each row containing 5 random integers from 0 to 100:"
   ]
  },
  {
   "cell_type": "code",
   "execution_count": null,
   "id": "66c6babd",
   "metadata": {},
   "outputs": [],
   "source": [
    "random_integers2D = random.randint(100, size=(3, 5))\n",
    "print(random_integers)"
   ]
  }
 ],
 "metadata": {
  "jupytext": {
   "cell_metadata_filter": "-all",
   "main_language": "python",
   "notebook_metadata_filter": "-all"
  }
 },
 "nbformat": 4,
 "nbformat_minor": 5
}
