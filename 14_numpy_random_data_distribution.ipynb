{
 "cells": [
  {
   "cell_type": "code",
   "execution_count": null,
   "id": "d6fde6b8",
   "metadata": {
    "lines_to_next_cell": 2
   },
   "outputs": [],
   "source": [
    "from numpy import random"
   ]
  },
  {
   "cell_type": "code",
   "execution_count": null,
   "id": "3ef29545",
   "metadata": {},
   "outputs": [],
   "source": [
    "# NumPy allows generating random numbers following different statistical distributions using its random module.\n",
    "# Generate 5 random numbers from a normal distribution (mean=0, std=1)\n",
    "normal_data = random.normal(loc=0, scale=1, size=5)\n",
    "print(normal_data)"
   ]
  },
  {
   "cell_type": "code",
   "execution_count": null,
   "id": "cb901d9e",
   "metadata": {},
   "outputs": [],
   "source": [
    "# Generate 5 random numbers from a binomial distribution (n=10 trials, p=0.5 success probability)\n",
    "binomial_data = random.binomial(n=10, p=0.5, size=5)\n",
    "print(binomial_data)"
   ]
  },
  {
   "cell_type": "code",
   "execution_count": null,
   "id": "83e5e2a9",
   "metadata": {},
   "outputs": [],
   "source": [
    "# random.choice() randomly selects elements from a given 1-D array or range.\n",
    "# Example: Randomly select 3 elements from an array\n",
    "choices = random.choice([1, 2, 3, 4, 5], size=3, replace=False)\n",
    "print(choices)"
   ]
  }
 ],
 "metadata": {
  "jupytext": {
   "cell_metadata_filter": "-all",
   "main_language": "python",
   "notebook_metadata_filter": "-all"
  }
 },
 "nbformat": 4,
 "nbformat_minor": 5
}
