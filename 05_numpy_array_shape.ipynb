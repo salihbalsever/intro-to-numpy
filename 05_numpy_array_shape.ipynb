{
 "cells": [
  {
   "cell_type": "code",
   "execution_count": null,
   "id": "8c44c806",
   "metadata": {},
   "outputs": [],
   "source": [
    "import numpy as np\n",
    "#NumPy arrays have an attribute called shape that returns a tuple with each index having the number of corresponding elements.\n",
    "arr = np.array([[1, 2, 3, 4], [5, 6, 7, 8]])"
   ]
  },
  {
   "cell_type": "code",
   "execution_count": null,
   "id": "ee2c80a1",
   "metadata": {},
   "outputs": [],
   "source": [
    "print(arr.shape)"
   ]
  },
  {
   "cell_type": "code",
   "execution_count": null,
   "id": "5b3f7429",
   "metadata": {},
   "outputs": [],
   "source": [
    "#Create an array with 5 dimensions using ndmin using a vector with values 1,2,3,4 and verify that last dimension has value 4:\n",
    "arr = np.array([1, 2, 3, 4], ndmin=5)"
   ]
  },
  {
   "cell_type": "code",
   "execution_count": null,
   "id": "1c48e1ec",
   "metadata": {},
   "outputs": [],
   "source": [
    "print(arr)\n",
    "print('shape of array :', arr.shape)"
   ]
  }
 ],
 "metadata": {
  "jupytext": {
   "cell_metadata_filter": "-all",
   "main_language": "python",
   "notebook_metadata_filter": "-all"
  }
 },
 "nbformat": 4,
 "nbformat_minor": 5
}
