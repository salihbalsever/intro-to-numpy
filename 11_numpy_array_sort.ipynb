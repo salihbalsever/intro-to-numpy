{
 "cells": [
  {
   "cell_type": "code",
   "execution_count": null,
   "id": "b108065a",
   "metadata": {},
   "outputs": [],
   "source": [
    "import numpy as np\n",
    "#NumPy provides the np.sort() function to sort array elements in ascending order by default.\n",
    "# Example with 1D array\n",
    "arr = np.array([30, 10, 50, 20])\n",
    "sorted_arr = np.sort(arr)"
   ]
  },
  {
   "cell_type": "code",
   "execution_count": null,
   "id": "1d6bfef4",
   "metadata": {},
   "outputs": [],
   "source": [
    "print(sorted_arr)  # [10 20 30 50]"
   ]
  },
  {
   "cell_type": "code",
   "execution_count": null,
   "id": "8217dbc0",
   "metadata": {},
   "outputs": [],
   "source": [
    "#Sorting a 2D array (row-wise by default)\n",
    "arr = np.array([[30, 20], [10, 40]])\n",
    "sorted_arr = np.sort(arr)"
   ]
  },
  {
   "cell_type": "code",
   "execution_count": null,
   "id": "65254961",
   "metadata": {},
   "outputs": [],
   "source": [
    "print(sorted_arr)\n",
    "# [[20 30]\n",
    "#  [10 40]]"
   ]
  }
 ],
 "metadata": {
  "jupytext": {
   "cell_metadata_filter": "-all",
   "main_language": "python",
   "notebook_metadata_filter": "-all"
  }
 },
 "nbformat": 4,
 "nbformat_minor": 5
}
