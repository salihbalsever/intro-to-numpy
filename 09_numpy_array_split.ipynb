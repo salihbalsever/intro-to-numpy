{
 "cells": [
  {
   "cell_type": "code",
   "execution_count": null,
   "id": "a579fe8e",
   "metadata": {},
   "outputs": [],
   "source": [
    "import numpy as np\n",
    "# np.array_split() allows you to split an array into multiple sub-arrays\n",
    "arr = np.array([1, 2, 3, 4, 5, 6, 7])"
   ]
  },
  {
   "cell_type": "code",
   "execution_count": null,
   "id": "b24f04f6",
   "metadata": {},
   "outputs": [],
   "source": [
    "split_arr = np.array_split(arr, 3)\n",
    "for part in split_arr:\n",
    "    print(part)\n",
    "# Split a 2-D array into 3 parts along the first axis\n",
    "arr2D = np.array([[1, 2, 3], [4, 5, 6], [7, 8, 9], [10, 11, 12]])\n",
    "split_arr2D = np.array_split(arr2D, 3)\n",
    "for part in split_arr2D:\n",
    "    print(part)\n",
    "# np.split() divides an array into equal-sized sub-arrays.\n",
    "# ⚠️ The array length must be divisible by the number of splits, or it will raise an error.\n",
    "arr = np.array([10, 20, 30, 40, 50, 60])\n",
    "result = np.split(arr, 3)"
   ]
  },
  {
   "cell_type": "code",
   "execution_count": null,
   "id": "5e15cec0",
   "metadata": {},
   "outputs": [],
   "source": [
    "for part in result:\n",
    "    print(part)"
   ]
  }
 ],
 "metadata": {
  "jupytext": {
   "cell_metadata_filter": "-all",
   "main_language": "python",
   "notebook_metadata_filter": "-all"
  }
 },
 "nbformat": 4,
 "nbformat_minor": 5
}
