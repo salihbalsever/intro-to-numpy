{
 "cells": [
  {
   "cell_type": "code",
   "execution_count": null,
   "id": "85888fdc",
   "metadata": {},
   "outputs": [],
   "source": [
    "import numpy as np\n",
    "#Reshaping means changing the shape of an array.\n",
    "# The reshape() function is used to give a new shape to an array without changing its data.\n",
    "# The new shape should be compatible with the original shape.\n",
    "# If the original array has 12 elements, the new shape must also have 12 elements\n",
    "# (e.g., 4 rows and 3 columns, or 6 rows and 2 columns, etc.).\n",
    "arr = np.array([1, 2, 3, 4, 5, 6, 7, 8, 9, 10, 11, 12])"
   ]
  },
  {
   "cell_type": "code",
   "execution_count": null,
   "id": "a32a17d2",
   "metadata": {},
   "outputs": [],
   "source": [
    "newarr = arr.reshape(4, 3)\n",
    "# Reshape to 2D array with 4 rows and 3 columns              \n",
    "newArr2D = arr.reshape(2, 3,2)"
   ]
  },
  {
   "cell_type": "code",
   "execution_count": null,
   "id": "d5c3ccef",
   "metadata": {
    "lines_to_next_cell": 2
   },
   "outputs": [],
   "source": [
    "print(newarr)\n",
    "print(newArr2D)"
   ]
  },
  {
   "cell_type": "code",
   "execution_count": null,
   "id": "853a40ef",
   "metadata": {},
   "outputs": [],
   "source": [
    "#Returns Copy or View\n",
    "# The reshape() function returns a view of the original array whenever possible.\n",
    "arr = np.array([1, 2, 3, 4, 5, 6, 7, 8])"
   ]
  },
  {
   "cell_type": "code",
   "execution_count": null,
   "id": "d5ce7302",
   "metadata": {},
   "outputs": [],
   "source": [
    "print(arr.reshape(2, 4).base)"
   ]
  }
 ],
 "metadata": {
  "jupytext": {
   "cell_metadata_filter": "-all",
   "main_language": "python",
   "notebook_metadata_filter": "-all"
  }
 },
 "nbformat": 4,
 "nbformat_minor": 5
}
