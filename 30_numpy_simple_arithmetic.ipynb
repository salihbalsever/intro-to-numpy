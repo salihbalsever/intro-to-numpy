{
 "cells": [
  {
   "cell_type": "code",
   "execution_count": null,
   "id": "21047a0d",
   "metadata": {},
   "outputs": [],
   "source": [
    "# Simple Arithmetic in NumPy\n",
    "\n",
    "# NumPy allows element-wise arithmetic operations on arrays, which are fast and concise.\n",
    "\n",
    "# You can use operators like `+`, `-`, `*`, `/`, or their corresponding ufuncs (`np.add()`, `np.subtract()`, etc.)."
   ]
  },
  {
   "cell_type": "code",
   "execution_count": 1,
   "id": "c520f9b4",
   "metadata": {},
   "outputs": [
    {
     "name": "stdout",
     "output_type": "stream",
     "text": [
      "Addition: [11 22 33]\n",
      "Subtraction: [ 9 18 27]\n",
      "Multiplication: [10 40 90]\n",
      "Division: [10. 10. 10.]\n",
      "Using np.add(): [11 22 33]\n",
      "Using np.divide(): [10. 10. 10.]\n"
     ]
    }
   ],
   "source": [
    "import numpy as np\n",
    "\n",
    "a = np.array([10, 20, 30])\n",
    "b = np.array([1, 2, 3])\n",
    "\n",
    "# Arithmetic operations\n",
    "print(\"Addition:\", a + b)        # [11 22 33]\n",
    "print(\"Subtraction:\", a - b)     # [ 9 18 27]\n",
    "print(\"Multiplication:\", a * b)  # [10 40 90]\n",
    "print(\"Division:\", a / b)        # [10. 10. 10.]\n",
    "\n",
    "# Or using ufuncs\n",
    "print(\"Using np.add():\", np.add(a, b))\n",
    "print(\"Using np.divide():\", np.divide(a, b))\n",
    "\n",
    "\n",
    "# Performs fast, element-wise arithmetic operations on arrays  \n",
    "# using standard operators or NumPy ufuncs."
   ]
  },
  {
   "cell_type": "code",
   "execution_count": null,
   "id": "e1eda554",
   "metadata": {},
   "outputs": [],
   "source": []
  },
  {
   "cell_type": "code",
   "execution_count": null,
   "id": "2ad2a505",
   "metadata": {},
   "outputs": [],
   "source": []
  },
  {
   "cell_type": "code",
   "execution_count": null,
   "id": "768358ec",
   "metadata": {},
   "outputs": [],
   "source": []
  }
 ],
 "metadata": {
  "kernelspec": {
   "display_name": "Python (tf_env)",
   "language": "python",
   "name": "tf_env"
  },
  "language_info": {
   "codemirror_mode": {
    "name": "ipython",
    "version": 3
   },
   "file_extension": ".py",
   "mimetype": "text/x-python",
   "name": "python",
   "nbconvert_exporter": "python",
   "pygments_lexer": "ipython3",
   "version": "3.10.18"
  }
 },
 "nbformat": 4,
 "nbformat_minor": 5
}
