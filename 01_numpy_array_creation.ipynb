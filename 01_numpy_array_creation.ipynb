{
 "cells": [
  {
   "cell_type": "code",
   "execution_count": null,
   "id": "020ab3cc",
   "metadata": {},
   "outputs": [],
   "source": [
    "import numpy as np\n",
    "## NumPy Creating Arrays\n",
    "## The array object in NumPy is called ndarray.\n",
    "arr = np.array([1, 2, 3, 4, 5])\n",
    "print(arr)\n",
    "print(type(arr))"
   ]
  },
  {
   "cell_type": "code",
   "execution_count": null,
   "id": "30e95773",
   "metadata": {},
   "outputs": [],
   "source": [
    "##Use a tuple to create a NumPy array:\n",
    "arrTuple  = np.array((1, 2, 3, 4, 5))\n",
    "print(arrTuple)"
   ]
  },
  {
   "cell_type": "code",
   "execution_count": null,
   "id": "01b5d49f",
   "metadata": {},
   "outputs": [],
   "source": [
    "##1-D Array\n",
    "arr_one_D = np.array([1, 2, 3, 4, 5])\n",
    "##2-D Array"
   ]
  },
  {
   "cell_type": "code",
   "execution_count": null,
   "id": "a223a655",
   "metadata": {},
   "outputs": [],
   "source": [
    "arr_two_D = np.array([[1, 2, 3], [4, 5, 6]])\n",
    "print(arr_two_D)"
   ]
  },
  {
   "cell_type": "markdown",
   "id": "e1092444",
   "metadata": {},
   "source": [
    "#3-D Array"
   ]
  },
  {
   "cell_type": "code",
   "execution_count": null,
   "id": "9c9b79a7",
   "metadata": {},
   "outputs": [],
   "source": [
    "arr_three_D = np.array([[[1, 2, 3], [4, 5, 6]], [[1, 2, 3], [4, 5, 6]]])\n",
    "print(arr_three_D)\n",
    "## Dimensions of an array\n",
    "# Create an array with at least 5 dimensions (ndmin=5 specifies the minimum number of dimensions)"
   ]
  },
  {
   "cell_type": "code",
   "execution_count": null,
   "id": "9190c7dd",
   "metadata": {},
   "outputs": [],
   "source": [
    "arrDim = np.array([1, 2, 3, 4], ndmin=5)"
   ]
  },
  {
   "cell_type": "code",
   "execution_count": null,
   "id": "68aa8d5f",
   "metadata": {},
   "outputs": [],
   "source": [
    "print('arrDim',arrDim)\n",
    "print('number of dimensions :', arrDim.ndim)"
   ]
  },
  {
   "cell_type": "code",
   "execution_count": null,
   "id": "e07b5608",
   "metadata": {
    "lines_to_next_cell": 2
   },
   "outputs": [],
   "source": [
    "#Access 2-D Array Elements\n",
    "arr = np.array([[1,2,3,4,5], [6,7,8,9,10]])\n",
    "print('2nd element on 1st row: ', arr[0, 1])"
   ]
  },
  {
   "cell_type": "code",
   "execution_count": null,
   "id": "67361662",
   "metadata": {},
   "outputs": [],
   "source": [
    "#Access 3-D Array Elements\n",
    "arr = np.array([[[1, 2, 3], [4, 5, 6]], [[7, 8, 9], [10, 11, 12]]])"
   ]
  },
  {
   "cell_type": "code",
   "execution_count": null,
   "id": "f07348ed",
   "metadata": {},
   "outputs": [],
   "source": [
    "print('3-D array access: ',arr[0, 1, 2])"
   ]
  },
  {
   "cell_type": "code",
   "execution_count": null,
   "id": "64d755fc",
   "metadata": {},
   "outputs": [],
   "source": []
  }
 ],
 "metadata": {
  "jupytext": {
   "cell_metadata_filter": "-all",
   "main_language": "python",
   "notebook_metadata_filter": "-all"
  }
 },
 "nbformat": 4,
 "nbformat_minor": 5
}
