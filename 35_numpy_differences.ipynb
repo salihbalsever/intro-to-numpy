{
 "cells": [
  {
   "cell_type": "code",
   "execution_count": null,
   "id": "21047a0d",
   "metadata": {},
   "outputs": [],
   "source": [
    "# NumPy Differences\n",
    "\n",
    "# `np.diff()` calculates the difference between each pair of consecutive elements in an array.\n",
    "\n",
    "# It’s useful for detecting change, rate of change, or differences over time."
   ]
  },
  {
   "cell_type": "code",
   "execution_count": null,
   "id": "c520f9b4",
   "metadata": {},
   "outputs": [
    {
     "name": "stdout",
     "output_type": "stream",
     "text": [
      "Original array: [ 5 10 15 25]\n",
      "Differences: [ 5  5 10]\n",
      "n=2: [0 5]\n"
     ]
    }
   ],
   "source": [
    "import numpy as np\n",
    "\n",
    "a = np.array([5, 10, 15, 25])\n",
    "\n",
    "# Difference between consecutive elements\n",
    "diff = np.diff(a)\n",
    "\n",
    "print(\"Original array:\", a)         # [5, 10, 15, 25]\n",
    "print(\"Differences:\", diff)         # [5, 5, 10]\n",
    "diff2N = np.diff(a, n=2)\n",
    "print(\"n=2:\", diff2N)         # [0, 5]\n",
    "\n",
    "# `np.diff()` returns the differences between consecutive elements  \n",
    "#  → Useful for finding trends or changes in sequences."
   ]
  },
  {
   "cell_type": "code",
   "execution_count": null,
   "id": "e1eda554",
   "metadata": {},
   "outputs": [],
   "source": []
  },
  {
   "cell_type": "code",
   "execution_count": null,
   "id": "2ad2a505",
   "metadata": {},
   "outputs": [],
   "source": []
  },
  {
   "cell_type": "code",
   "execution_count": null,
   "id": "768358ec",
   "metadata": {},
   "outputs": [],
   "source": []
  }
 ],
 "metadata": {
  "kernelspec": {
   "display_name": "Python (tf_env)",
   "language": "python",
   "name": "tf_env"
  },
  "language_info": {
   "codemirror_mode": {
    "name": "ipython",
    "version": 3
   },
   "file_extension": ".py",
   "mimetype": "text/x-python",
   "name": "python",
   "nbconvert_exporter": "python",
   "pygments_lexer": "ipython3",
   "version": "3.10.18"
  }
 },
 "nbformat": 4,
 "nbformat_minor": 5
}
