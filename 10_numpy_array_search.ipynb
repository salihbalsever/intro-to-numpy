{
 "cells": [
  {
   "cell_type": "code",
   "execution_count": null,
   "id": "64199301",
   "metadata": {},
   "outputs": [],
   "source": [
    "import numpy as np"
   ]
  },
  {
   "cell_type": "code",
   "execution_count": null,
   "id": "ce822d78",
   "metadata": {},
   "outputs": [],
   "source": [
    "#NumPy provides functions to search for specific values or conditions inside arrays.\n",
    "#example using np.where():\n",
    "arr = np.array([10, 20, 30, 40, 50])\n",
    "indices = np.where(arr == 30)\n",
    "print(\"Indices of value 30:\", indices[0])"
   ]
  },
  {
   "cell_type": "code",
   "execution_count": null,
   "id": "bb5d1444",
   "metadata": {},
   "outputs": [],
   "source": [
    "# np.searchsorted() – Find index to insert element to keep array sorted\n",
    "arr_sorted = np.array([10, 20, 30, 40, 50])\n",
    "index = np.searchsorted(arr_sorted, 35)\n",
    "print(\"Index to insert 35:\", index)"
   ]
  }
 ],
 "metadata": {
  "jupytext": {
   "cell_metadata_filter": "-all",
   "main_language": "python",
   "notebook_metadata_filter": "-all"
  }
 },
 "nbformat": 4,
 "nbformat_minor": 5
}
