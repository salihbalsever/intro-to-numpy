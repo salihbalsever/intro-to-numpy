{
 "cells": [
  {
   "cell_type": "code",
   "execution_count": null,
   "id": "21047a0d",
   "metadata": {},
   "outputs": [],
   "source": [
    "# NumPy Universal Functions (ufuncs)\n",
    "\n",
    "# Universal Functions (ufuncs) are functions that operate element-wise on `ndarray` objects.  \n",
    "# They are optimized and faster than regular Python functions.\n",
    "\n",
    "# Common ufuncs include:\n",
    "# - Arithmetic: `add()`, `subtract()`, `multiply()`, `divide()`\n",
    "# - Trigonometric: `sin()`, `cos()`, `tan()`\n",
    "# - Statistical: `mean()`, `std()`, `sum()`, `min()`, `max()`"
   ]
  },
  {
   "cell_type": "code",
   "execution_count": 2,
   "id": "c520f9b4",
   "metadata": {},
   "outputs": [
    {
     "name": "stdout",
     "output_type": "stream",
     "text": [
      "Add: [5 7 9]\n",
      "Multiply: [ 4 10 18]\n",
      "Sine: [0.0000000e+00 1.0000000e+00 1.2246468e-16]\n",
      "Mean of b: 5.0\n",
      "Max of a: 3\n"
     ]
    }
   ],
   "source": [
    "import numpy as np\n",
    "\n",
    "a = np.array([1, 2, 3])\n",
    "b = np.array([4, 5, 6])\n",
    "\n",
    "# Element-wise operations\n",
    "print(\"Add:\", np.add(a, b))       # [5 7 9]\n",
    "print(\"Multiply:\", np.multiply(a, b))  # [4 10 18]\n",
    "\n",
    "# Trigonometric function\n",
    "angles = np.array([0, np.pi/2, np.pi])\n",
    "print(\"Sine:\", np.sin(angles))    # [0. 1. 0.]\n",
    "\n",
    "# Aggregation\n",
    "print(\"Mean of b:\", np.mean(b))   # 5.0\n",
    "print(\"Max of a:\", np.max(a))     # 3\n",
    "\n",
    "# ufuncs perform fast element-wise operations on arrays.  \n",
    "# They support broadcasting, type casting, and many are vectorized for performance."
   ]
  },
  {
   "cell_type": "code",
   "execution_count": null,
   "id": "e1eda554",
   "metadata": {},
   "outputs": [],
   "source": []
  }
 ],
 "metadata": {
  "kernelspec": {
   "display_name": "Python (tf_env)",
   "language": "python",
   "name": "tf_env"
  },
  "language_info": {
   "codemirror_mode": {
    "name": "ipython",
    "version": 3
   },
   "file_extension": ".py",
   "mimetype": "text/x-python",
   "name": "python",
   "nbconvert_exporter": "python",
   "pygments_lexer": "ipython3",
   "version": "3.10.18"
  }
 },
 "nbformat": 4,
 "nbformat_minor": 5
}
