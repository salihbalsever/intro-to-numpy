{
 "cells": [
  {
   "cell_type": "code",
   "execution_count": null,
   "id": "21047a0d",
   "metadata": {},
   "outputs": [],
   "source": [
    "# NumPy Set Operations\n",
    "\n",
    "# NumPy provides functions to perform set operations on arrays:\n",
    "\n",
    "# - `np.unique()` → Returns sorted unique elements  \n",
    "# - `np.union1d()` → Union of two arrays  \n",
    "# - `np.intersect1d()` → Intersection of two arrays  \n",
    "# - `np.setdiff1d()` → Difference (elements in A not in B)  \n",
    "# - `np.setxor1d()` → Symmetric difference (elements in A or B but not both)"
   ]
  },
  {
   "cell_type": "code",
   "execution_count": null,
   "id": "c520f9b4",
   "metadata": {},
   "outputs": [
    {
     "name": "stdout",
     "output_type": "stream",
     "text": [
      "Unique in a: [1 2 3 4]\n",
      "Union: [1 2 3 4 5 6]\n",
      "Intersection: [3 4]\n",
      "Difference (a - b): [1 2]\n",
      "Symmetric difference: [1 2 5 6]\n"
     ]
    }
   ],
   "source": [
    "import numpy as np\n",
    "\n",
    "a = np.array([1, 2, 3, 4])\n",
    "b = np.array([3, 4, 5, 6])\n",
    "\n",
    "print(\"Unique in a:\", np.unique(a))                   # [1 2 3 4]\n",
    "print(\"Union:\", np.union1d(a, b))                     # [1 2 3 4 5 6]\n",
    "print(\"Intersection:\", np.intersect1d(a, b))          # [3 4]\n",
    "print(\"Difference (a - b):\", np.setdiff1d(a, b))      # [1 2]\n",
    "print(\"Symmetric difference:\", np.setxor1d(a, b))     # [1 2 5 6]\n",
    "\n",
    "# Set operations in NumPy help you find unique, common, and different elements between arrays — just like in math sets."
   ]
  },
  {
   "cell_type": "code",
   "execution_count": null,
   "id": "e1eda554",
   "metadata": {},
   "outputs": [],
   "source": []
  },
  {
   "cell_type": "code",
   "execution_count": null,
   "id": "2ad2a505",
   "metadata": {},
   "outputs": [],
   "source": []
  },
  {
   "cell_type": "code",
   "execution_count": null,
   "id": "768358ec",
   "metadata": {},
   "outputs": [],
   "source": []
  }
 ],
 "metadata": {
  "kernelspec": {
   "display_name": "Python (tf_env)",
   "language": "python",
   "name": "tf_env"
  },
  "language_info": {
   "codemirror_mode": {
    "name": "ipython",
    "version": 3
   },
   "file_extension": ".py",
   "mimetype": "text/x-python",
   "name": "python",
   "nbconvert_exporter": "python",
   "pygments_lexer": "ipython3",
   "version": "3.10.18"
  }
 },
 "nbformat": 4,
 "nbformat_minor": 5
}
