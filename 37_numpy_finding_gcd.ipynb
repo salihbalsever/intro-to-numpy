{
 "cells": [
  {
   "cell_type": "code",
   "execution_count": null,
   "id": "21047a0d",
   "metadata": {},
   "outputs": [],
   "source": [
    "# NumPy LCM – Lowest Common Multiple\n",
    "\n",
    "# NumPy provides functions to calculate the **Least Common Multiple (LCM)**:\n",
    "\n",
    "# - `np.lcm(a, b)` → LCM of two integers  \n",
    "# - `np.lcm.reduce(array)` → LCM of all elements in the array"
   ]
  },
  {
   "cell_type": "code",
   "execution_count": null,
   "id": "c520f9b4",
   "metadata": {},
   "outputs": [
    {
     "name": "stdout",
     "output_type": "stream",
     "text": [
      "Original array: [ 5 10 15 25]\n",
      "Differences: [ 5  5 10]\n",
      "n=2: [0 5]\n"
     ]
    }
   ],
   "source": [
    "import numpy as np\n",
    "\n",
    "# LCM of two numbers\n",
    "print(\"LCM of 6 and 9:\", np.lcm(6, 9))  # 18\n",
    "\n",
    "# LCM of an array of numbers\n",
    "arr = np.array([4, 6, 8])\n",
    "print(\"LCM of array:\", np.lcm.reduce(arr))  # 24\n",
    "\n",
    "# LCM is the smallest positive number that is a multiple of all the input values.\n",
    "\n",
    "# - `np.lcm()` works element-wise\n",
    "# - `np.lcm.reduce()` finds the LCM of the whole array"
   ]
  },
  {
   "cell_type": "code",
   "execution_count": null,
   "id": "e1eda554",
   "metadata": {},
   "outputs": [],
   "source": []
  },
  {
   "cell_type": "code",
   "execution_count": null,
   "id": "2ad2a505",
   "metadata": {},
   "outputs": [],
   "source": []
  },
  {
   "cell_type": "code",
   "execution_count": null,
   "id": "768358ec",
   "metadata": {},
   "outputs": [],
   "source": []
  }
 ],
 "metadata": {
  "kernelspec": {
   "display_name": "Python (tf_env)",
   "language": "python",
   "name": "tf_env"
  },
  "language_info": {
   "codemirror_mode": {
    "name": "ipython",
    "version": 3
   },
   "file_extension": ".py",
   "mimetype": "text/x-python",
   "name": "python",
   "nbconvert_exporter": "python",
   "pygments_lexer": "ipython3",
   "version": "3.10.18"
  }
 },
 "nbformat": 4,
 "nbformat_minor": 5
}
