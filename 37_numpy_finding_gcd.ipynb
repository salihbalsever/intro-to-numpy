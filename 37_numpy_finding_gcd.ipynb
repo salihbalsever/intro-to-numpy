{
 "cells": [
  {
   "cell_type": "code",
   "execution_count": null,
   "id": "21047a0d",
   "metadata": {},
   "outputs": [],
   "source": [
    "# NumPy GCD – Greatest Common Divisor\n",
    "\n",
    "# NumPy provides functions to calculate the **Greatest Common Divisor (GCD)**:\n",
    "\n",
    "# - `np.gcd(a, b)` → GCD of two integers  \n",
    "# - `np.gcd.reduce(array)` → GCD of all elements in the array"
   ]
  },
  {
   "cell_type": "code",
   "execution_count": 1,
   "id": "c520f9b4",
   "metadata": {},
   "outputs": [
    {
     "name": "stdout",
     "output_type": "stream",
     "text": [
      "GCD of 18 and 24: 6\n",
      "GCD of array: 12\n"
     ]
    }
   ],
   "source": [
    "import numpy as np\n",
    "\n",
    "# GCD of two numbers\n",
    "print(\"GCD of 18 and 24:\", np.gcd(18, 24))  # 6\n",
    "\n",
    "# GCD of an array\n",
    "arr = np.array([48, 60, 72])\n",
    "print(\"GCD of array:\", np.gcd.reduce(arr))  # 12\n",
    "\n",
    "# GCD is the largest number that divides all values in the input without a remainder.\n",
    "\n",
    "# - `np.gcd()` works element-wise  \n",
    "# - `np.gcd.reduce()` finds the GCD of the whole array"
   ]
  },
  {
   "cell_type": "code",
   "execution_count": null,
   "id": "e1eda554",
   "metadata": {},
   "outputs": [],
   "source": []
  },
  {
   "cell_type": "code",
   "execution_count": null,
   "id": "2ad2a505",
   "metadata": {},
   "outputs": [],
   "source": []
  },
  {
   "cell_type": "code",
   "execution_count": null,
   "id": "768358ec",
   "metadata": {},
   "outputs": [],
   "source": []
  }
 ],
 "metadata": {
  "kernelspec": {
   "display_name": "Python (tf_env)",
   "language": "python",
   "name": "tf_env"
  },
  "language_info": {
   "codemirror_mode": {
    "name": "ipython",
    "version": 3
   },
   "file_extension": ".py",
   "mimetype": "text/x-python",
   "name": "python",
   "nbconvert_exporter": "python",
   "pygments_lexer": "ipython3",
   "version": "3.10.18"
  }
 },
 "nbformat": 4,
 "nbformat_minor": 5
}
