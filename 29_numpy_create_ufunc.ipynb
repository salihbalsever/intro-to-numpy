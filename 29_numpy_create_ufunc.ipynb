{
 "cells": [
  {
   "cell_type": "code",
   "execution_count": null,
   "id": "21047a0d",
   "metadata": {},
   "outputs": [],
   "source": [
    "# Create Your Own ufunc\n",
    "\n",
    "# You can create a custom ufunc using `np.frompyfunc()` for Python functions  \n",
    "# or `np.vectorize()` for more flexibility and broadcasting.\n",
    "\n",
    "# These allow your own functions to behave like NumPy's built-in ufuncs."
   ]
  },
  {
   "cell_type": "code",
   "execution_count": 1,
   "id": "c520f9b4",
   "metadata": {},
   "outputs": [
    {
     "name": "stdout",
     "output_type": "stream",
     "text": [
      "[11 22 33]\n"
     ]
    }
   ],
   "source": [
    "import numpy as np\n",
    "\n",
    "# Regular Python function\n",
    "def custom_add(x, y):\n",
    "    return x + y\n",
    "\n",
    "# Convert to ufunc\n",
    "ufunc_add = np.frompyfunc(custom_add, 2, 1)\n",
    "\n",
    "# Apply element-wise\n",
    "a = np.array([1, 2, 3])\n",
    "b = np.array([10, 20, 30])\n",
    "result = ufunc_add(a, b)\n",
    "\n",
    "print(result)  # Output: [11 22 33]\n",
    "\n",
    "# np.frompyfunc(function, num_inputs, num_outputs)  \n",
    "# creates a universal function from a regular Python function."
   ]
  },
  {
   "cell_type": "code",
   "execution_count": null,
   "id": "e1eda554",
   "metadata": {},
   "outputs": [],
   "source": []
  },
  {
   "cell_type": "code",
   "execution_count": null,
   "id": "768358ec",
   "metadata": {},
   "outputs": [],
   "source": []
  }
 ],
 "metadata": {
  "kernelspec": {
   "display_name": "Python (tf_env)",
   "language": "python",
   "name": "tf_env"
  },
  "language_info": {
   "codemirror_mode": {
    "name": "ipython",
    "version": 3
   },
   "file_extension": ".py",
   "mimetype": "text/x-python",
   "name": "python",
   "nbconvert_exporter": "python",
   "pygments_lexer": "ipython3",
   "version": "3.10.18"
  }
 },
 "nbformat": 4,
 "nbformat_minor": 5
}
