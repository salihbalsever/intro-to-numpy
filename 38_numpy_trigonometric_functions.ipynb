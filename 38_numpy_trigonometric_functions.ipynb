{
 "cells": [
  {
   "cell_type": "code",
   "execution_count": null,
   "id": "21047a0d",
   "metadata": {},
   "outputs": [],
   "source": [
    "# NumPy Trigonometric Functions\n",
    "\n",
    "# NumPy provides functions to compute trigonometric values using angles in radians:\n",
    "\n",
    "# - `np.sin()`, `np.cos()`, `np.tan()` → Basic trig functions  \n",
    "# - `np.arcsin()`, `np.arccos()`, `np.arctan()` → Inverse trig functions  \n",
    "# - `np.deg2rad()` / `np.rad2deg()` → Angle conversion"
   ]
  },
  {
   "cell_type": "code",
   "execution_count": 1,
   "id": "c520f9b4",
   "metadata": {},
   "outputs": [
    {
     "name": "stdout",
     "output_type": "stream",
     "text": [
      "Sine: [0.         0.5        0.70710678 0.8660254  1.        ]\n",
      "Cosine: [1.00000000e+00 8.66025404e-01 7.07106781e-01 5.00000000e-01\n",
      " 6.12323400e-17]\n",
      "Tangent: [0.00000000e+00 5.77350269e-01 1.00000000e+00 1.73205081e+00\n",
      " 1.63312394e+16]\n"
     ]
    }
   ],
   "source": [
    "import numpy as np\n",
    "\n",
    "# Angles in degrees\n",
    "degrees = np.array([0, 30, 45, 60, 90])\n",
    "\n",
    "# Convert to radians\n",
    "radians = np.deg2rad(degrees)\n",
    "\n",
    "# Trigonometric functions\n",
    "print(\"Sine:\", np.sin(radians))\n",
    "print(\"Cosine:\", np.cos(radians))\n",
    "print(\"Tangent:\", np.tan(radians))\n",
    "\n",
    "# NumPy trigonometric functions expect input in radians.  \n",
    "# Use `np.deg2rad()` to convert degrees to radians if needed."
   ]
  },
  {
   "cell_type": "code",
   "execution_count": null,
   "id": "e1eda554",
   "metadata": {},
   "outputs": [],
   "source": []
  },
  {
   "cell_type": "code",
   "execution_count": null,
   "id": "2ad2a505",
   "metadata": {},
   "outputs": [],
   "source": []
  },
  {
   "cell_type": "code",
   "execution_count": null,
   "id": "768358ec",
   "metadata": {},
   "outputs": [],
   "source": []
  }
 ],
 "metadata": {
  "kernelspec": {
   "display_name": "Python (tf_env)",
   "language": "python",
   "name": "tf_env"
  },
  "language_info": {
   "codemirror_mode": {
    "name": "ipython",
    "version": 3
   },
   "file_extension": ".py",
   "mimetype": "text/x-python",
   "name": "python",
   "nbconvert_exporter": "python",
   "pygments_lexer": "ipython3",
   "version": "3.10.18"
  }
 },
 "nbformat": 4,
 "nbformat_minor": 5
}
