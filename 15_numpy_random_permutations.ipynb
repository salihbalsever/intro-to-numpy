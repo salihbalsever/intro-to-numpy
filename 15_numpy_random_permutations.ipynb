{
 "cells": [
  {
   "cell_type": "code",
   "execution_count": null,
   "id": "c8bac053",
   "metadata": {
    "lines_to_next_cell": 2
   },
   "outputs": [],
   "source": [
    "from numpy import random\n",
    "import numpy as np"
   ]
  },
  {
   "cell_type": "code",
   "execution_count": null,
   "id": "17a5c1eb",
   "metadata": {},
   "outputs": [],
   "source": [
    "# random.shuffle() shuffles the elements of an array in-place, modifying the original array.\n",
    "arr = np.array([1, 2, 3, 4, 5])\n",
    "random.shuffle(arr)"
   ]
  },
  {
   "cell_type": "code",
   "execution_count": null,
   "id": "9e74857f",
   "metadata": {},
   "outputs": [],
   "source": [
    "print(arr)"
   ]
  },
  {
   "cell_type": "markdown",
   "id": "95c95960",
   "metadata": {},
   "source": [
    "NumPy’s random.permutation() returns a randomly permuted sequence or array without modifying the original."
   ]
  },
  {
   "cell_type": "code",
   "execution_count": null,
   "id": "19b20e20",
   "metadata": {},
   "outputs": [],
   "source": [
    "arr = np.array([1, 2, 3, 4, 5])\n",
    "perm = random.permutation(arr)"
   ]
  },
  {
   "cell_type": "code",
   "execution_count": null,
   "id": "35e83167",
   "metadata": {},
   "outputs": [],
   "source": [
    "print(perm)"
   ]
  }
 ],
 "metadata": {
  "jupytext": {
   "cell_metadata_filter": "-all",
   "main_language": "python",
   "notebook_metadata_filter": "-all"
  }
 },
 "nbformat": 4,
 "nbformat_minor": 5
}
