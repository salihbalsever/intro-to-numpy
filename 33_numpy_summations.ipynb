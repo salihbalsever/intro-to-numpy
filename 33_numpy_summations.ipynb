{
 "cells": [
  {
   "cell_type": "code",
   "execution_count": null,
   "id": "21047a0d",
   "metadata": {},
   "outputs": [],
   "source": [
    "# NumPy Summations\n",
    "\n",
    "# NumPy provides fast summation functions:\n",
    "\n",
    "# - `np.sum()` → Sums all elements  \n",
    "# - `np.cumsum()` → Cumulative sum (running total)  \n",
    "# - Supports summing across axes in multi-dimensional arrays"
   ]
  },
  {
   "cell_type": "code",
   "execution_count": 3,
   "id": "c520f9b4",
   "metadata": {},
   "outputs": [
    {
     "name": "stdout",
     "output_type": "stream",
     "text": [
      "Sum: 10\n",
      "Cumulative Sum: [ 1  3  6 10]\n",
      "Sum of all elements: 10\n",
      "Sum along axis=0 (columns): [4 6]\n",
      "Sum along axis=1 (rows): [3 7]\n"
     ]
    }
   ],
   "source": [
    "import numpy as np\n",
    "\n",
    "a = np.array([1, 2, 3, 4])\n",
    "\n",
    "print(\"Sum:\", np.sum(a))             # 10\n",
    "print(\"Cumulative Sum:\", np.cumsum(a))  # [1 3 6 10]\n",
    "\n",
    "# 2D example\n",
    "b = np.array([[1, 2], [3, 4]])\n",
    "\n",
    "print(\"Sum of all elements:\", np.sum(b))             # 10\n",
    "print(\"Sum along axis=0 (columns):\", np.sum(b, axis=0))  # [4 6]\n",
    "print(\"Sum along axis=1 (rows):\", np.sum(b, axis=1))     # [3 7]\n",
    "\n",
    "# NumPy summation functions are used to add values  \n",
    "# across arrays efficiently — including cumulative and axis-based sums."
   ]
  },
  {
   "cell_type": "code",
   "execution_count": null,
   "id": "e1eda554",
   "metadata": {},
   "outputs": [],
   "source": []
  },
  {
   "cell_type": "code",
   "execution_count": null,
   "id": "2ad2a505",
   "metadata": {},
   "outputs": [],
   "source": []
  },
  {
   "cell_type": "code",
   "execution_count": null,
   "id": "768358ec",
   "metadata": {},
   "outputs": [],
   "source": []
  }
 ],
 "metadata": {
  "kernelspec": {
   "display_name": "Python (tf_env)",
   "language": "python",
   "name": "tf_env"
  },
  "language_info": {
   "codemirror_mode": {
    "name": "ipython",
    "version": 3
   },
   "file_extension": ".py",
   "mimetype": "text/x-python",
   "name": "python",
   "nbconvert_exporter": "python",
   "pygments_lexer": "ipython3",
   "version": "3.10.18"
  }
 },
 "nbformat": 4,
 "nbformat_minor": 5
}
