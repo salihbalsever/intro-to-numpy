{
 "cells": [
  {
   "cell_type": "code",
   "execution_count": null,
   "id": "d482cc63",
   "metadata": {},
   "outputs": [],
   "source": [
    "import numpy as np\n",
    "#Slicing arrays\n",
    "#Slicing in python means taking elements from one given index to another given index.\n",
    "arrSlicing = np.array([1, 2, 3, 4, 5, 6, 7])"
   ]
  },
  {
   "cell_type": "code",
   "execution_count": null,
   "id": "a09282c3",
   "metadata": {},
   "outputs": [],
   "source": [
    "print(arrSlicing[1:5])\n",
    "print(arrSlicing[4:])\n",
    "print(arrSlicing[1:5:2])\n",
    "#Slicing 2-D arrays\n",
    "arrSlicing2D = np.array([[1, 2, 3, 4, 5], [6, 7, 8, 9, 10]])"
   ]
  },
  {
   "cell_type": "code",
   "execution_count": null,
   "id": "ceea1ac9",
   "metadata": {},
   "outputs": [],
   "source": [
    "print(arrSlicing2D[1, 1:4])"
   ]
  }
 ],
 "metadata": {
  "jupytext": {
   "cell_metadata_filter": "-all",
   "main_language": "python",
   "notebook_metadata_filter": "-all"
  }
 },
 "nbformat": 4,
 "nbformat_minor": 5
}
