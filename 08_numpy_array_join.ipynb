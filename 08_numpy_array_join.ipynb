{
 "cells": [
  {
   "cell_type": "code",
   "execution_count": null,
   "id": "967fb7e3",
   "metadata": {},
   "outputs": [],
   "source": [
    "import numpy as np\n",
    "#In NumPy, joining means combining multiple arrays into one. This is commonly done using functions like np.concatenate(), np.stack(),\n",
    "#and np.hstack() / np.vstack().\n",
    "#Joins two or more arrays along an existing axis.\n",
    "#Example using np.concatenate():\n",
    "arr1 = np.array([1, 2, 3])\n",
    "arr2 = np.array([4, 5, 6])"
   ]
  },
  {
   "cell_type": "code",
   "execution_count": null,
   "id": "49db6490",
   "metadata": {},
   "outputs": [],
   "source": [
    "joined = np.concatenate((arr1, arr2))\n",
    "print(joined)"
   ]
  },
  {
   "cell_type": "markdown",
   "id": "8cbc54fe",
   "metadata": {},
   "source": [
    "Stacks arrays along a new axis (adds one more dimension).\n",
    "Example using np.stack():"
   ]
  },
  {
   "cell_type": "code",
   "execution_count": null,
   "id": "0fbe6e17",
   "metadata": {},
   "outputs": [],
   "source": [
    "arr3 = np.array([[1, 2], [3, 4]])\n",
    "arr4 = np.array([[5, 6], [7, 8]])\n",
    "stacked = np.stack((arr3, arr4))\n",
    "print(stacked)"
   ]
  },
  {
   "cell_type": "code",
   "execution_count": null,
   "id": "d0b2d9ca",
   "metadata": {},
   "outputs": [],
   "source": [
    "# Horizontally stacks arrays (along columns).\n",
    "# Vertically stacks arrays (along rows).\n",
    "# Example using np.hstack() and np.vstack():\n",
    "arr5 = np.array([1, 2, 3])\n",
    "arr6 = np.array([4, 5, 6])\n",
    "hstacked = np.hstack((arr5, arr6))\n",
    "vstacked = np.vstack((arr5, arr6))\n",
    "print(\"Horizontal Stack:\\n\", hstacked)\n",
    "print(\"Vertical Stack:\\n\", vstacked)"
   ]
  }
 ],
 "metadata": {
  "jupytext": {
   "cell_metadata_filter": "-all",
   "main_language": "python",
   "notebook_metadata_filter": "-all"
  }
 },
 "nbformat": 4,
 "nbformat_minor": 5
}
