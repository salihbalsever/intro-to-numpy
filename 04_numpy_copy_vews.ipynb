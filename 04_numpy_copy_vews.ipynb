{
 "cells": [
  {
   "cell_type": "code",
   "execution_count": null,
   "id": "1c953c47",
   "metadata": {},
   "outputs": [],
   "source": [
    "import numpy as np"
   ]
  },
  {
   "cell_type": "markdown",
   "id": "510187aa",
   "metadata": {},
   "source": [
    "Make a copy, change the original array, and display both arrays:"
   ]
  },
  {
   "cell_type": "code",
   "execution_count": null,
   "id": "46b64490",
   "metadata": {},
   "outputs": [],
   "source": [
    "arr = np.array([1, 2, 3, 4, 5])\n",
    "arr_copy = arr.copy()\n",
    "arr[0] = 42 # Change the original array\n",
    "print(\"Original array:\", arr)\n",
    "print(\"Copied array:\", arr_copy)"
   ]
  },
  {
   "cell_type": "code",
   "execution_count": null,
   "id": "d6678980",
   "metadata": {},
   "outputs": [],
   "source": [
    "# Make a view, change the original array, and display both arrays:\n",
    "arr_view = arr.view()\n",
    "arr[1] = 99  # Change the original array\n",
    "print(\"Original array after view change:\", arr)\n",
    "print(\"View of the array:\", arr_view)\n",
    "# Make a view, change the view, and display both arrays:\n",
    "arr_view[2] = 77  # Change the view\n",
    "print(\"Original array after view change:\", arr)\n",
    "print(\"View of the array after view change:\", arr_view)"
   ]
  },
  {
   "cell_type": "code",
   "execution_count": null,
   "id": "b9cb8d0c",
   "metadata": {},
   "outputs": [],
   "source": [
    "#Check if Array Owns its Data\n",
    "arr = np.array([1, 2, 3, 4, 5])"
   ]
  },
  {
   "cell_type": "code",
   "execution_count": null,
   "id": "325edfa7",
   "metadata": {},
   "outputs": [],
   "source": [
    "x = arr.copy()\n",
    "y = arr.view()"
   ]
  },
  {
   "cell_type": "code",
   "execution_count": null,
   "id": "6ba8c306",
   "metadata": {},
   "outputs": [],
   "source": [
    "print(x.base)\n",
    "print(y.base)\n",
    "# The base attribute returns None for the copy, and the original array for the view\n",
    "print(\"Does x own its data?\", x.base is None)  # True, x owns its data\n",
    "print(\"Does y own its data?\", y.base is arr)  # True, y is a view of arr"
   ]
  }
 ],
 "metadata": {
  "jupytext": {
   "cell_metadata_filter": "-all",
   "main_language": "python",
   "notebook_metadata_filter": "-all"
  }
 },
 "nbformat": 4,
 "nbformat_minor": 5
}
