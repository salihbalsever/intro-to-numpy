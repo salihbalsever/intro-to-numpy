{
 "cells": [
  {
   "cell_type": "code",
   "execution_count": 1,
   "id": "30dbaedd",
   "metadata": {},
   "outputs": [],
   "source": [
    "# Multinomial Distribution\n",
    "\n",
    "# The multinomial distribution is a generalization of the binomial distribution.  \n",
    "# It describes the outcomes of multiple trials where each trial can result in one of **more than two** possible outcomes.\n",
    "\n",
    "# In NumPy, we use:\n",
    "# `np.random.multinomial(n, pvals, size)`\n",
    "# - `n`: number of trials\n",
    "# - `pvals`: list of probabilities for each outcome (must sum to 1)\n",
    "# - `size`: number of samples"
   ]
  },
  {
   "cell_type": "code",
   "execution_count": 2,
   "id": "edac7e49",
   "metadata": {},
   "outputs": [
    {
     "name": "stdout",
     "output_type": "stream",
     "text": [
      "[[22 45 33]\n",
      " [18 54 28]\n",
      " [17 57 26]\n",
      " [24 57 19]\n",
      " [18 46 36]]\n"
     ]
    }
   ],
   "source": [
    "import numpy as np\n",
    "\n",
    "# 100 trials, 3 outcomes with given probabilities\n",
    "outcomes = np.random.multinomial(n=100, pvals=[0.2, 0.5, 0.3], size=5)\n",
    "\n",
    "print(outcomes)"
   ]
  },
  {
   "cell_type": "code",
   "execution_count": null,
   "id": "3960396a",
   "metadata": {},
   "outputs": [],
   "source": []
  }
 ],
 "metadata": {
  "kernelspec": {
   "display_name": "Python (tf_env)",
   "language": "python",
   "name": "tf_env"
  },
  "language_info": {
   "codemirror_mode": {
    "name": "ipython",
    "version": 3
   },
   "file_extension": ".py",
   "mimetype": "text/x-python",
   "name": "python",
   "nbconvert_exporter": "python",
   "pygments_lexer": "ipython3",
   "version": "3.10.18"
  }
 },
 "nbformat": 4,
 "nbformat_minor": 5
}
